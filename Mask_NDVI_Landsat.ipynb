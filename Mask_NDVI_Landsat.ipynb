{
  "nbformat": 4,
  "nbformat_minor": 0,
  "metadata": {
    "colab": {
      "name": "Mask NDVI Landsat.ipynb",
      "version": "0.3.2",
      "provenance": [],
      "collapsed_sections": [],
      "include_colab_link": true
    },
    "kernelspec": {
      "name": "python3",
      "display_name": "Python 3"
    }
  },
  "cells": [
    {
      "cell_type": "markdown",
      "metadata": {
        "id": "view-in-github",
        "colab_type": "text"
      },
      "source": [
        "<a href=\"https://colab.research.google.com/github/SpadavecchiaAdrian/NDVI-in-python/blob/master/Mask_NDVI_Landsat.ipynb\" target=\"_parent\"><img src=\"https://colab.research.google.com/assets/colab-badge.svg\" alt=\"Open In Colab\"/></a>"
      ]
    },
    {
      "cell_type": "markdown",
      "metadata": {
        "id": "6AHOdApX-NG9",
        "colab_type": "text"
      },
      "source": [
        "# Install dependency \n",
        "Google Colab is a virtual machine, which brings some dependencies already installed as for example TensorFlow, in our case study we need the following dependencies to allow us to work with rasterios.\n",
        "\n",
        "The following cell installs dependencies in the VM Colab through pip, the command \"\"! \"\" Indicates that the code is executed in shell."
      ]
    },
    {
      "cell_type": "code",
      "metadata": {
        "id": "ehTrlw-1ZGDE",
        "colab_type": "code",
        "outputId": "7908c9d3-a1ca-4a2f-8869-8cbc444a9dae",
        "colab": {
          "base_uri": "https://localhost:8080/",
          "height": 558
        }
      },
      "source": [
        "!pip install rasterio\n",
        "!pip install Fiona\n",
        "!pip install geopandas\n"
      ],
      "execution_count": 0,
      "outputs": [
        {
          "output_type": "stream",
          "text": [
            "Requirement already satisfied: rasterio in /usr/local/lib/python3.6/dist-packages (1.0.25)\n",
            "Requirement already satisfied: affine in /usr/local/lib/python3.6/dist-packages (from rasterio) (2.2.2)\n",
            "Requirement already satisfied: click-plugins in /usr/local/lib/python3.6/dist-packages (from rasterio) (1.1.1)\n",
            "Requirement already satisfied: snuggs>=1.4.1 in /usr/local/lib/python3.6/dist-packages (from rasterio) (1.4.6)\n",
            "Requirement already satisfied: attrs in /usr/local/lib/python3.6/dist-packages (from rasterio) (19.1.0)\n",
            "Requirement already satisfied: cligj>=0.5 in /usr/local/lib/python3.6/dist-packages (from rasterio) (0.5.0)\n",
            "Requirement already satisfied: click<8,>=4.0 in /usr/local/lib/python3.6/dist-packages (from rasterio) (7.0)\n",
            "Requirement already satisfied: numpy in /usr/local/lib/python3.6/dist-packages (from rasterio) (1.16.4)\n",
            "Requirement already satisfied: pyparsing>=2.1.6 in /usr/local/lib/python3.6/dist-packages (from snuggs>=1.4.1->rasterio) (2.4.2)\n",
            "Requirement already satisfied: Fiona in /usr/local/lib/python3.6/dist-packages (1.8.6)\n",
            "Requirement already satisfied: attrs>=17 in /usr/local/lib/python3.6/dist-packages (from Fiona) (19.1.0)\n",
            "Requirement already satisfied: six>=1.7 in /usr/local/lib/python3.6/dist-packages (from Fiona) (1.12.0)\n",
            "Requirement already satisfied: click-plugins>=1.0 in /usr/local/lib/python3.6/dist-packages (from Fiona) (1.1.1)\n",
            "Requirement already satisfied: click<8,>=4.0 in /usr/local/lib/python3.6/dist-packages (from Fiona) (7.0)\n",
            "Requirement already satisfied: munch in /usr/local/lib/python3.6/dist-packages (from Fiona) (2.3.2)\n",
            "Requirement already satisfied: cligj>=0.5 in /usr/local/lib/python3.6/dist-packages (from Fiona) (0.5.0)\n",
            "Requirement already satisfied: geopandas in /usr/local/lib/python3.6/dist-packages (0.5.1)\n",
            "Requirement already satisfied: pandas in /usr/local/lib/python3.6/dist-packages (from geopandas) (0.24.2)\n",
            "Requirement already satisfied: fiona in /usr/local/lib/python3.6/dist-packages (from geopandas) (1.8.6)\n",
            "Requirement already satisfied: shapely in /usr/local/lib/python3.6/dist-packages (from geopandas) (1.6.4.post2)\n",
            "Requirement already satisfied: pyproj in /usr/local/lib/python3.6/dist-packages (from geopandas) (2.3.0)\n",
            "Requirement already satisfied: pytz>=2011k in /usr/local/lib/python3.6/dist-packages (from pandas->geopandas) (2018.9)\n",
            "Requirement already satisfied: numpy>=1.12.0 in /usr/local/lib/python3.6/dist-packages (from pandas->geopandas) (1.16.4)\n",
            "Requirement already satisfied: python-dateutil>=2.5.0 in /usr/local/lib/python3.6/dist-packages (from pandas->geopandas) (2.5.3)\n",
            "Requirement already satisfied: click-plugins>=1.0 in /usr/local/lib/python3.6/dist-packages (from fiona->geopandas) (1.1.1)\n",
            "Requirement already satisfied: munch in /usr/local/lib/python3.6/dist-packages (from fiona->geopandas) (2.3.2)\n",
            "Requirement already satisfied: cligj>=0.5 in /usr/local/lib/python3.6/dist-packages (from fiona->geopandas) (0.5.0)\n",
            "Requirement already satisfied: six>=1.7 in /usr/local/lib/python3.6/dist-packages (from fiona->geopandas) (1.12.0)\n",
            "Requirement already satisfied: click<8,>=4.0 in /usr/local/lib/python3.6/dist-packages (from fiona->geopandas) (7.0)\n",
            "Requirement already satisfied: attrs>=17 in /usr/local/lib/python3.6/dist-packages (from fiona->geopandas) (19.1.0)\n"
          ],
          "name": "stdout"
        }
      ]
    },
    {
      "cell_type": "markdown",
      "metadata": {
        "id": "qIkZsfujhkHu",
        "colab_type": "text"
      },
      "source": [
        "# import Drive\n",
        "In this section, we will import Google Drive to Colab in order to save all processed NDVIs in the drive. When executing the following box, you will be asked to enter a link, this is necessary to give Colab authorization to access our drive. After authorizing the link, it gives us a code which must be pasted in the box."
      ]
    },
    {
      "cell_type": "code",
      "metadata": {
        "id": "vUVLq_f5j63e",
        "colab_type": "code",
        "outputId": "c88ac990-6dfa-405e-ced2-55333b906d86",
        "colab": {
          "base_uri": "https://localhost:8080/",
          "height": 34
        }
      },
      "source": [
        "# Run this cell to mount your Google Drive.\n",
        "from google.colab import drive\n",
        "\n",
        "#Where to mount the drive\n",
        "drive.mount('/content/drive', force_remount=True)"
      ],
      "execution_count": 0,
      "outputs": [
        {
          "output_type": "stream",
          "text": [
            "Mounted at /content/drive\n"
          ],
          "name": "stdout"
        }
      ]
    },
    {
      "cell_type": "markdown",
      "metadata": {
        "id": "Smzt5I8bC1Jg",
        "colab_type": "text"
      },
      "source": [
        "to manage files, files and os can be used"
      ]
    },
    {
      "cell_type": "markdown",
      "metadata": {
        "id": "eEATEEMRKuZC",
        "colab_type": "text"
      },
      "source": [
        "# Mask a Landsat 8 image and storage in Drive\n",
        "\n",
        "links of interest:\n",
        "\n",
        "http://geojson.io/#map=17/-33.25612/-68.91906\n",
        "\n",
        "https://automating-gis-processes.github.io/CSC18/index.html\n",
        "\n",
        "https://automating-gis-processes.github.io/CSC18/lessons/L6/clipping-raster.html\n",
        "\n",
        "https://automating-gis-processes.github.io/CSC/notebooks/L5/clipping-raster.html\n",
        "\n",
        "https://rasterio.readthedocs.io/en/stable/topics/masking-by-shapefile.html\n",
        "\n",
        "https://rasterio.readthedocs.io/en/stable/api/rasterio.crs.html\n",
        "\n",
        "http://pyproj4.github.io/pyproj/stable/examples.html\n",
        "\n",
        "\n",
        "\n",
        "\n",
        "manuals:\n",
        "\n",
        "https://fiona.readthedocs.io/en/latest/manual.html\n",
        "\n",
        "https://shapely.readthedocs.io/en/stable/manual.html\n",
        "\n",
        "http://geopandas.org/projections.html\n"
      ]
    },
    {
      "cell_type": "code",
      "metadata": {
        "id": "H8Tibczw6StQ",
        "colab_type": "code",
        "colab": {}
      },
      "source": [
        "import rasterio\n",
        "from rasterio.plot import show\n",
        "from rasterio.plot import show_hist\n",
        "from rasterio.mask import mask\n",
        "from rasterio.crs import CRS\n",
        "\n",
        "from shapely.geometry import Polygon\n",
        "import geopandas as gpd\n",
        "from fiona.crs import from_epsg\n"
      ],
      "execution_count": 0,
      "outputs": []
    },
    {
      "cell_type": "markdown",
      "metadata": {
        "id": "b7BLQGgtK49j",
        "colab_type": "text"
      },
      "source": [
        "## Derterminig the file to process\n"
      ]
    },
    {
      "cell_type": "code",
      "metadata": {
        "id": "kJJgDStC6Xg-",
        "colab_type": "code",
        "outputId": "cd627d00-ea80-45bd-82c9-cb41e97d2557",
        "colab": {
          "base_uri": "https://localhost:8080/",
          "height": 52
        }
      },
      "source": [
        "filepath = 'http://landsat-pds.s3.amazonaws.com/c1/L8/232/083/LC08_L1TP_232083_20181231_20190130_01_T1/LC08_L1TP_232083_20181231_20190130_01_T1_B4.TIF'\n",
        "\n",
        "# Read the data and get the profile\n",
        "data = rasterio.open(filepath)\n",
        "print(data.profile)\n"
      ],
      "execution_count": 0,
      "outputs": [
        {
          "output_type": "stream",
          "text": [
            "{'driver': 'GTiff', 'dtype': 'uint16', 'nodata': None, 'width': 7741, 'height': 7801, 'count': 1, 'crs': CRS.from_epsg(32619), 'transform': Affine(30.0, 0.0, 370485.0,\n",
            "       0.0, -30.0, -3554085.0), 'blockxsize': 512, 'blockysize': 512, 'tiled': True, 'compress': 'deflate', 'interleave': 'band'}\n"
          ],
          "name": "stdout"
        }
      ]
    },
    {
      "cell_type": "markdown",
      "metadata": {
        "id": "VzEqFd4LK-Ul",
        "colab_type": "text"
      },
      "source": [
        "## build the shape to maskthe tiff"
      ]
    },
    {
      "cell_type": "code",
      "metadata": {
        "id": "miW0DeHH6Zpd",
        "colab_type": "code",
        "outputId": "08892ec0-bdb2-4583-cbfe-6ddcaa8d12d8",
        "colab": {
          "base_uri": "https://localhost:8080/",
          "height": 106
        }
      },
      "source": [
        "#create a polygon\n",
        "# WGS84 coordinates\n",
        "bpol = Polygon([(-68.92167806625366, -33.259575428753955),\n",
        "                (-68.91727924346924, -33.25989839833489),\n",
        "                (-68.91644239425659, -33.2526492381774),\n",
        "                (-68.92077684402464, -33.252344186072946),\n",
        "                (-68.92167806625366, -33.259575428753955)])\n",
        "\n",
        "#create a GeoDataFrame with the poligon\n",
        "geo = gpd.GeoDataFrame({'geometry': bpol}, index=[0], crs=from_epsg(4326))\n",
        "print(\"Dataframe geo: \", geo)\n",
        "\n",
        "# Project the Polygon into same CRS as the grid\n",
        "geo = geo.to_crs(crs=data.crs.data)\n",
        "\n",
        "# Print crs\n",
        "print(\"crs of geo: \", geo.crs)\n",
        "\n",
        "\n",
        "#function to get all the features in the GeoDataFrame\n",
        "def getFeatures(gdf):\n",
        "    \"\"\"Function to parse features from GeoDataFrame in such a manner that rasterio wants them\"\"\"\n",
        "    import json\n",
        "    return [json.loads(gdf.to_json())['features'][0]['geometry']]\n",
        "  \n",
        "\n",
        "#Call the function to get the features of GeoDataframe geo\n",
        "coords = getFeatures(geo)\n",
        "print(\"coord of geo whit transformation: \",coords)"
      ],
      "execution_count": 0,
      "outputs": [
        {
          "output_type": "stream",
          "text": [
            "Dataframe geo:                                              geometry\n",
            "0  POLYGON ((-68.92167806625366 -33.2595754287539...\n",
            "crs of geo:  {'init': 'epsg:32619'}\n",
            "coord of geo whit transformation:  [{'type': 'Polygon', 'coordinates': [[[507295.01014044497, -3680066.83522275], [507704.69416476385, -3680102.9569560937], [507783.2818934449, -3679299.342949897], [507379.55909098266, -3679265.208970199], [507295.01014044497, -3680066.83522275]]]}]\n"
          ],
          "name": "stdout"
        }
      ]
    },
    {
      "cell_type": "code",
      "metadata": {
        "id": "a4MNmXOr6rfe",
        "colab_type": "code",
        "outputId": "9315176e-1ff2-4962-f37b-4956c47dc816",
        "colab": {
          "base_uri": "https://localhost:8080/",
          "height": 141
        }
      },
      "source": [
        "# Clip the raster with Polygon\n",
        "out_img, out_transform = mask(dataset=data, shapes=coords, crop=True)\n",
        "\n",
        "# Copy the metadata\n",
        "out_meta = data.meta.copy()\n",
        "print(\"metadata after clip:\", out_meta)\n",
        "\n",
        "\n",
        "# Parse EPSG code\n",
        "epsg_code = int(data.crs.data['init'][5:])\n",
        "print(\"data crs: \",data.crs)\n",
        "print(\"epsg code of data:\",epsg_code)\n",
        "print(\"A PROJ4 dict representation of the CRS of the epsg code from data\",CRS.from_epsg(epsg_code))\n",
        "print(\"A PROJ4 string representation of the CRS of the epsg code from data\",CRS.from_epsg(epsg_code).to_proj4())"
      ],
      "execution_count": 0,
      "outputs": [
        {
          "output_type": "stream",
          "text": [
            "metadata after clip: {'driver': 'GTiff', 'dtype': 'uint16', 'nodata': None, 'width': 7741, 'height': 7801, 'count': 1, 'crs': CRS.from_epsg(32619), 'transform': Affine(30.0, 0.0, 370485.0,\n",
            "       0.0, -30.0, -3554085.0)}\n",
            "data crs:  EPSG:32619\n",
            "epsg code of data: 32619\n",
            "A PROJ4 dict representation of the CRS of the epsg code from data EPSG:32619\n",
            "A PROJ4 string representation of the CRS of the epsg code from data +init=epsg:32619\n"
          ],
          "name": "stdout"
        }
      ]
    },
    {
      "cell_type": "code",
      "metadata": {
        "id": "9uY36e1s6wAi",
        "colab_type": "code",
        "colab": {}
      },
      "source": [
        "#update the metadata of the masked image\n",
        "out_meta.update({\"driver\": \"GTiff\",\n",
        "                 \"height\": out_img.shape[1],\n",
        "                 \"width\": out_img.shape[2],\n",
        "                 \"transform\": out_transform,\n",
        "                 \"crs\": CRS.from_epsg(epsg_code).to_proj4()} #i have to see what change if i put or not this proj4 line\n",
        "                                                              #the original tiff isn't in proj4....\n",
        "                 #\"crs\": pycrs.parser.from_epsg_code(epsg_code).to_proj4()} #dont work\n",
        "                         )"
      ],
      "execution_count": 0,
      "outputs": []
    },
    {
      "cell_type": "code",
      "metadata": {
        "id": "7_TJD4EE6yYn",
        "colab_type": "code",
        "colab": {}
      },
      "source": [
        "#name with which the GeoTiff will be saved\n",
        "localname = 'test_mendoza_mask.tif'\n",
        "#path in which the GeoTiff will be stored\n",
        "path_save = '/content/'\n",
        "\n",
        "with rasterio.open(path_save + localname, \"w\", **out_meta) as dest:\n",
        "        dest.write(out_img)"
      ],
      "execution_count": 0,
      "outputs": []
    },
    {
      "cell_type": "code",
      "metadata": {
        "id": "ZfRHqMNg6z7s",
        "colab_type": "code",
        "outputId": "79f8d1f6-7a27-47cc-dcb6-6517349a532d",
        "colab": {
          "base_uri": "https://localhost:8080/",
          "height": 298
        }
      },
      "source": [
        "# Open the clipped raster file\n",
        "clipped = rasterio.open(path_save + localname)\n",
        "\n",
        "#plot the result con rasterio\n",
        "fig, ax = plt.subplots()\n",
        "rasterio.plot.show(clipped, ax=ax, title='NDVI')"
      ],
      "execution_count": 0,
      "outputs": [
        {
          "output_type": "execute_result",
          "data": {
            "text/plain": [
              "<matplotlib.axes._subplots.AxesSubplot at 0x7f579df72b00>"
            ]
          },
          "metadata": {
            "tags": []
          },
          "execution_count": 16
        },
        {
          "output_type": "display_data",
          "data": {
            "image/png": "[encoded data removed]",
            "text/plain": [
              "<Figure size 432x288 with 1 Axes>"
            ]
          },
          "metadata": {
            "tags": []
          }
        }
      ]
    },
    {
      "cell_type": "markdown",
      "metadata": {
        "id": "nSS_ToESPD0i",
        "colab_type": "text"
      },
      "source": [
        "### Mask result with nan values instead 0"
      ]
    },
    {
      "cell_type": "code",
      "metadata": {
        "id": "Sk_5mPPafNaw",
        "colab_type": "code",
        "outputId": "406732da-3bf2-46e0-e258-1a252ec52c7e",
        "colab": {
          "base_uri": "https://localhost:8080/",
          "height": 312
        }
      },
      "source": [
        "#name with which the GeoTiff will be saved\n",
        "localname = 'test_mendoza_mask.tif'\n",
        "#path in which the GeoTiff will be stored\n",
        "path_save = '/content/'\n",
        "\n",
        "with rasterio.open(path_save + localname) as src:\n",
        "    \n",
        "    thumbnail = src.read(1, out_shape=(1, int(src.height), int(src.width)))\n",
        "\n",
        "    thumbnail = thumbnail.astype('f4')\n",
        "    thumbnail[thumbnail==0] = np.nan\n",
        "\n",
        "plt.imshow(thumbnail)\n",
        "plt.colorbar()\n",
        "plt.title('Overview - Band 4 {}'.format(thumbnail.shape))\n",
        "plt.xlabel('Column #')\n",
        "plt.ylabel('Row #')"
      ],
      "execution_count": 0,
      "outputs": [
        {
          "output_type": "execute_result",
          "data": {
            "text/plain": [
              "Text(0, 0.5, 'Row #')"
            ]
          },
          "metadata": {
            "tags": []
          },
          "execution_count": 17
        },
        {
          "output_type": "display_data",
          "data": {
            "image/png": "[encoded data removed]",
            "text/plain": [
              "<Figure size 432x288 with 2 Axes>"
            ]
          },
          "metadata": {
            "tags": []
          }
        }
      ]
    },
    {
      "cell_type": "markdown",
      "metadata": {
        "id": "t5MGZPL5SQ51",
        "colab_type": "text"
      },
      "source": [
        "# Get a serie of masked NDVI images"
      ]
    },
    {
      "cell_type": "code",
      "metadata": {
        "id": "u9wtW-Wg6QHl",
        "colab_type": "code",
        "colab": {}
      },
      "source": [
        "import numpy as np\n",
        "import pandas as pd\n",
        "\n",
        "import rasterio\n",
        "from rasterio.mask import mask\n",
        "from rasterio.crs import CRS\n",
        "\n",
        "#to build the mask\n",
        "import json\n",
        "from shapely.geometry import Polygon\n",
        "import geopandas as gpd\n",
        "from fiona.crs import from_epsg\n",
        "#for the gif\n",
        "import matplotlib\n",
        "import matplotlib.pyplot as plt\n",
        "%matplotlib inline\n"
      ],
      "execution_count": 0,
      "outputs": []
    },
    {
      "cell_type": "code",
      "metadata": {
        "colab_type": "code",
        "id": "gQklKYl-R5Bv",
        "colab": {}
      },
      "source": [
        "#a modo de prueba utilizamos 6 GeoTiff\n",
        "files = ('LC08_L1TP_232083_20190609_20190619_01_T1',\n",
        "'LC08_L1TP_232083_20190524_20190604_01_T1',\n",
        "'LC08_L1TP_232083_20190508_20190521_01_T1',\n",
        "'LC08_L1TP_232083_20190422_20190507_01_T1',\n",
        "'LC08_L1TP_232083_20190406_20190422_01_T1',\n",
        "'LC08_L1TP_232083_20190321_20190403_01_T1',\n",
        "'LC08_L1TP_232083_20190305_20190309_01_T1',\n",
        "'LC08_L1TP_232083_20190217_20190222_01_T1',\n",
        "'LC08_L1TP_232083_20190201_20190206_01_T1',\n",
        "'LC08_L1TP_232083_20190116_20190131_01_T1',\n",
        "'LC08_L1TP_232083_20181231_20190130_01_T1',\n",
        "'LC08_L1TP_232083_20181215_20181227_01_T1',\n",
        "'LC08_L1TP_232083_20181129_20181211_01_T1',\n",
        "'LC08_L1TP_232083_20181113_20181127_01_T1',\n",
        "'LC08_L1TP_232083_20181028_20181115_01_T1',\n",
        "'LC08_L1TP_232083_20181012_20181030_01_T1',\n",
        "'LC08_L1TP_232083_20180926_20181009_01_T1',\n",
        "'LC08_L1TP_232083_20180910_20180927_01_T1',\n",
        "'LC08_L1TP_232083_20180825_20180829_01_T1',\n",
        "'LC08_L1TP_232083_20180809_20180815_01_T1',\n",
        "'LC08_L1TP_232083_20180724_20180731_01_T1',\n",
        "'LC08_L1TP_232083_20180708_20180717_01_T1',\n",
        "'LC08_L1TP_232083_20180622_20180703_01_T1',\n",
        "'LC08_L1TP_232083_20180606_20180615_01_T1',\n",
        "'LC08_L1TP_232083_20180521_20180605_01_T1',\n",
        "'LC08_L1TP_232083_20180505_20180517_01_T1',\n",
        "'LC08_L1TP_232083_20180419_20180502_01_T1',\n",
        "'LC08_L1TP_232083_20180403_20180417_01_T1',\n",
        "'LC08_L1TP_232083_20180318_20180403_01_T1',\n",
        "'LC08_L1TP_232083_20180302_20180319_01_T1',\n",
        "'LC08_L1TP_232083_20180214_20180222_01_T1',\n",
        "'LC08_L1TP_232083_20180129_20180207_01_T1',\n",
        "'LC08_L1TP_232083_20180113_20180119_01_T1',\n",
        "'LC08_L1TP_232083_20171228_20180103_01_T1',\n",
        "'LC08_L1TP_232083_20171212_20171223_01_T1',\n",
        "'LC08_L1TP_232083_20171126_20171206_01_T1',\n",
        "'LC08_L1TP_232083_20171110_20171121_01_T1',\n",
        "'LC08_L1TP_232083_20171025_20171107_01_T1',\n",
        "'LC08_L1TP_232083_20171009_20171024_01_T1',\n",
        "'LC08_L1TP_232083_20170923_20171013_01_T1',\n",
        "'LC08_L1TP_232083_20170907_20170926_01_T1',\n",
        "'LC08_L1TP_232083_20170822_20170911_01_T1',\n",
        "'LC08_L1TP_232083_20170806_20170813_01_T1',\n",
        "'LC08_L1TP_232083_20170721_20170728_01_T1',\n",
        "'LC08_L1TP_232083_20170619_20170629_01_T1')\n",
        "\n",
        "#sanity check files to process\n",
        "#for file in  files:\n",
        "#  print(file)"
      ],
      "execution_count": 0,
      "outputs": []
    },
    {
      "cell_type": "code",
      "metadata": {
        "colab_type": "code",
        "id": "x7EIcTfedTkP",
        "colab": {}
      },
      "source": [
        "def GetPolygonCoords(data):\n",
        "    #create a polygon\n",
        "    # WGS84 coordinates\n",
        "    bpol = Polygon([(-68.92167806625366, -33.259575428753955),\n",
        "                    (-68.91727924346924, -33.25989839833489),\n",
        "                    (-68.91644239425659, -33.2526492381774),\n",
        "                    (-68.92077684402464, -33.252344186072946),\n",
        "                    (-68.92167806625366, -33.259575428753955)])\n",
        "\n",
        "    #create a GeoDataFrame with the poligon\n",
        "    geo = gpd.GeoDataFrame({'geometry': bpol}, index=[0], crs=from_epsg(4326))\n",
        "\n",
        "    # Project the Polygon into same CRS as the grid\n",
        "    geo = geo.to_crs(crs=data.crs.data)\n",
        "\n",
        "    #Call the function to get the features of GeoDataframe geo\n",
        "    coords = [json.loads(geo.to_json())['features'][0]['geometry']]\n",
        "    \n",
        "    return coords"
      ],
      "execution_count": 0,
      "outputs": []
    },
    {
      "cell_type": "code",
      "metadata": {
        "colab_type": "code",
        "id": "LOWTWqtdSAeH",
        "colab": {}
      },
      "source": [
        "\n",
        "# NDVI from aws with clip:\n",
        "date = '2018-12-31'\n",
        "url = 'http://landsat-pds.s3.amazonaws.com/c1/L8/232/083/'\n",
        "\n",
        "#end of name for red and Nir band\n",
        "redband = '_B4.TIF'\n",
        "nirband = '_B5.TIF'\n",
        "\n",
        "#target name of the file\n",
        "localname = 'NDVI.tif'\n",
        "#path to save the file\n",
        "path_save = '/content/drive/My Drive/NDVIGeoTiff/'\n",
        "\n",
        "\n",
        "df = pd.DataFrame(columns = ['count', 'mean', 'std', 'min', '25%', '50%', '75%', 'max'])\n",
        "\n",
        "\n",
        "\n",
        "#function to calc NDVI\n",
        "def calc_ndvi(nir,red):\n",
        "    '''Calculate NDVI from integer arrays'''\n",
        "    nir = nir.astype('f4')\n",
        "    red = red.astype('f4')\n",
        "    ndvi = (nir - red) / (nir + red)\n",
        "    return ndvi\n",
        "\n",
        "#recorremos todos los geotiff en la lista files\n",
        "for image in files:\n",
        "  #logg message\n",
        "  print('processing:' + 'NDVI_mask' + image + '.tif')\n",
        "  \n",
        "  #open and assign the red band\n",
        "  with rasterio.open(url + image +'/'+ image + redband) as src:\n",
        "    features = GetPolygonCoords(src)\n",
        "    # Clip the raster with Polygon\n",
        "    red, out_transform = mask(dataset=src, shapes=features, crop=True)\n",
        "\n",
        "    # Copy the metadata\n",
        "    out_meta = src.meta.copy()\n",
        "    \n",
        "    # Parse EPSG code\n",
        "    epsg_code = int(src.crs.data['init'][5:])\n",
        "    \n",
        "    \n",
        "    #update the metadata of the masked image\n",
        "    out_meta.update({\"dtype\": 'float32',\n",
        "                     \"driver\": \"GTiff\",\n",
        "                     \"height\": red.shape[1],\n",
        "                     \"width\": red.shape[2],\n",
        "                     \"transform\": out_transform,\n",
        "                     \"crs\": CRS.from_epsg(epsg_code).to_proj4()} #i have to see what change if i put or not this proj4 line\n",
        "                                                                  #the original tiff isn't in proj4....\n",
        "                     #\"crs\": pycrs.parser.from_epsg_code(epsg_code).to_proj4()} #dont work\n",
        "                             )\n",
        "    with rasterio.open(url + image +'/'+ image + nirband) as src:\n",
        "        # Clip the raster with Polygon\n",
        "        nir, out_transform = mask(dataset=src, shapes=features, crop=True)\n",
        "    \n",
        "    #calculate the NDVI\n",
        "    ndvi = calc_ndvi(nir,red)\n",
        "    \n",
        "    \n",
        "    #Save NDVI in drive\n",
        "    with rasterio.open(path_save + 'NDVI_mask'+ image + '.tif', 'w', **out_meta) as dst:\n",
        "      dst.write(ndvi)\n",
        "    \n",
        "    #processing NDVI to csv\n",
        "    linealNDVI = ndvi.reshape(-1,1)\n",
        "    #make a DataFrame from the NDVI image\n",
        "    dfNDVI = pd.DataFrame(linealNDVI)\n",
        "    \n",
        "    dfDescription = dfNDVI.describe()\n",
        "    dfDescription = dfDescription.T\n",
        "    dfDescription['file'] = ('NDVI_mask'+ image + '.tif')\n",
        "    dfDescription = dfDescription.set_index('file')\n",
        "    #save image description in df\n",
        "    df = df.append(dfDescription)\n",
        "\n",
        "#save df image description in CSV     \n",
        "path_CSV = '/content/drive/My Drive/NDVIGeoTiff/GeoTiffDescription.csv'\n",
        "df.to_csv(path_CSV)\n",
        "print(\"CSV saved, Cell end!\")"
      ],
      "execution_count": 0,
      "outputs": []
    },
    {
      "cell_type": "markdown",
      "metadata": {
        "id": "tEaThKMpIbME",
        "colab_type": "text"
      },
      "source": [
        "### Plot one file to chek result"
      ]
    },
    {
      "cell_type": "code",
      "metadata": {
        "colab_type": "code",
        "outputId": "c62ac378-afdb-4487-ba91-aa871006f8b1",
        "id": "XoYVZ32bcXQi",
        "colab": {
          "base_uri": "https://localhost:8080/",
          "height": 312
        }
      },
      "source": [
        "import matplotlib\n",
        "import matplotlib.pyplot as plt\n",
        "%matplotlib inline\n",
        "\n",
        "#nombre con el que se guardará el GeoTiff\n",
        "localname = 'NDVI_maskLC08_L1TP_232083_20180113_20180119_01_T1.tif'\n",
        "#path en el que se gardará el GeoTiff\n",
        "path_save = '/content/drive/My Drive/NDVIGeoTiff/'\n",
        "\n",
        "with rasterio.open(path_save + localname) as src:\n",
        "    \n",
        "    destination = src.read(1, out_shape=(1, int(src.height), int(src.width)))\n",
        "\n",
        "    #destination = destination.astype('f4')\n",
        "    #destination[destination==0] = np.nan\n",
        "\n",
        "\n",
        "plt.imshow(destination, cmap='RdYlGn')\n",
        "plt.colorbar()\n",
        "plt.title('Overview - NDVI {}'.format(destination.shape))\n",
        "plt.xlabel('Column #')\n",
        "plt.ylabel('Row #')\n",
        "\n"
      ],
      "execution_count": 0,
      "outputs": [
        {
          "output_type": "execute_result",
          "data": {
            "text/plain": [
              "Text(0, 0.5, 'Row #')"
            ]
          },
          "metadata": {
            "tags": []
          },
          "execution_count": 5
        },
        {
          "output_type": "display_data",
          "data": {
            "image/png": "[encoded data removed]",
            "text/plain": [
              "<Figure size 432x288 with 2 Axes>"
            ]
          },
          "metadata": {
            "tags": []
          }
        }
      ]
    },
    {
      "cell_type": "code",
      "metadata": {
        "id": "94X8EWlZZSD2",
        "colab_type": "code",
        "colab": {}
      },
      "source": [
        ""
      ],
      "execution_count": 0,
      "outputs": []
    },
    {
      "cell_type": "markdown",
      "metadata": {
        "id": "1bOOrI3KaXoh",
        "colab_type": "text"
      },
      "source": [
        "### more files to add\n",
        "LC08_L1TP_232083_20190609_20190619_01_T1\n",
        "LC08_L1TP_232083_20190524_20190604_01_T1\n",
        "LC08_L1TP_232083_20190508_20190521_01_T1\n",
        "LC08_L1TP_232083_20190422_20190507_01_T1\n",
        "LC08_L1TP_232083_20190406_20190422_01_T1\n",
        "LC08_L1TP_232083_20190321_20190403_01_T1\n",
        "LC08_L1TP_232083_20190305_20190309_01_T1\n",
        "LC08_L1TP_232083_20190217_20190222_01_T1\n",
        "LC08_L1TP_232083_20190201_20190206_01_T1\n",
        "LC08_L1TP_232083_20190116_20190131_01_T1\n",
        "LC08_L1TP_232083_20181231_20190130_01_T1\n",
        "LC08_L1TP_232083_20181215_20181227_01_T1\n",
        "LC08_L1TP_232083_20181129_20181211_01_T1\n",
        "LC08_L1TP_232083_20181113_20181127_01_T1\n",
        "LC08_L1TP_232083_20181028_20181115_01_T1\n",
        "LC08_L1TP_232083_20181012_20181030_01_T1\n",
        "LC08_L1TP_232083_20180926_20181009_01_T1\n",
        "LC08_L1TP_232083_20180910_20180927_01_T1\n",
        "LC08_L1TP_232083_20180825_20180829_01_T1\n",
        "LC08_L1TP_232083_20180809_20180815_01_T1\n",
        "LC08_L1TP_232083_20180724_20180731_01_T1\n",
        "LC08_L1TP_232083_20180708_20180717_01_T1\n",
        "LC08_L1TP_232083_20180622_20180703_01_T1\n",
        "LC08_L1TP_232083_20180606_20180615_01_T1\n",
        "LC08_L1TP_232083_20180521_20180605_01_T1\n",
        "LC08_L1TP_232083_20180505_20180517_01_T1\n",
        "LC08_L1TP_232083_20180419_20180502_01_T1\n",
        "LC08_L1TP_232083_20180403_20180417_01_T1\n",
        "LC08_L1TP_232083_20180318_20180403_01_T1\n",
        "LC08_L1TP_232083_20180302_20180319_01_T1\n",
        "LC08_L1TP_232083_20180214_20180222_01_T1\n",
        "LC08_L1TP_232083_20180129_20180207_01_T1\n",
        "LC08_L1TP_232083_20180113_20180119_01_T1\n",
        "LC08_L1TP_232083_20171228_20180103_01_T1\n",
        "LC08_L1TP_232083_20171212_20171223_01_T1\n",
        "LC08_L1TP_232083_20171126_20171206_01_T1\n",
        "LC08_L1TP_232083_20171110_20171121_01_T1\n",
        "LC08_L1TP_232083_20171025_20171107_01_T1\n",
        "LC08_L1TP_232083_20171009_20171024_01_T1\n",
        "LC08_L1TP_232083_20170923_20171013_01_T1\n",
        "LC08_L1TP_232083_20170907_20170926_01_T1\n",
        "LC08_L1TP_232083_20170822_20170911_01_T1\n",
        "LC08_L1TP_232083_20170806_20170813_01_T1\n",
        "LC08_L1TP_232083_20170721_20170728_01_T1\n",
        "LC08_L1TP_232083_20170619_20170629_01_T1\n",
        "\n",
        "\n",
        "\n",
        "\n",
        "LC08_L1TP_232083_20170603_20170615_01_T1 \tSat Jun 03 2017 \t12%\n",
        "LC08_L1TP_232083_20170603_20170603_01_RT \tSat Jun 03 2017 \t12%\n",
        "LC08_L1GT_232083_20170518_20170518_01_RT \tThu May 18 2017 \t74%\n",
        "LC08_L1TP_232083_20170502_20170515_01_T1 \tTue May 02 2017 \t21%\n",
        "LC08_L1TP_232083_20170416_20170501_01_T1 \tSun Apr 16 2017 \t85%\n",
        "LC08_L1TP_232083_20170331_20170414_01_T1 \tFri Mar 31 2017 \t50%\n",
        "LC08_L1TP_232083_20170315_20170328_01_T1 \tWed Mar 15 2017 \t4%\n",
        "LC08_L1TP_232083_20170227_20170316_01_T1 \tMon Feb 27 2017 \t4%\n",
        "LC08_L1TP_232083_20170211_20170217_01_T1 \tSat Feb 11 2017 \t2%\n",
        "LC08_L1TP_232083_20170126_20170214_01_T1 \tThu Jan 26 2017 \t0%\n",
        "LC08_L1TP_232083_20170110_20170311_01_T1 \tTue Jan 10 2017 \t31%\n",
        "LC08_L1TP_232083_20161225_20170315_01_T1 \tSun Dec 25 2016 \t34%\n",
        "LC08_L1TP_232083_20161123_20170318_01_T1 \tWed Nov 23 2016 \t66%\n",
        "LC08_L1TP_232083_20161107_20170318_01_T1 \tMon Nov 07 2016 \t4%\n",
        "LC08_L1TP_232083_20161022_20170319_01_T1 \tSat Oct 22 2016 \t6%\n",
        "LC08_L1TP_232083_20161006_20170320_01_T1 \tThu Oct 06 2016 \t34%\n",
        "LC08_L1TP_232083_20160920_20170321_01_T1 \tTue Sep 20 2016 \t4%\n",
        "LC08_L1TP_232083_20160904_20170321_01_T1 \tSun Sep 04 2016 \t64%\n",
        "LC08_L1TP_232083_20160819_20170322_01_T1 \tFri Aug 19 2016 \t35%\n",
        "LC08_L1TP_232083_20160803_20170322_01_T1 \tWed Aug 03 2016 \t37%\n",
        "LC08_L1TP_232083_20160718_20170323_01_T1 \tMon Jul 18 2016 \t17%\n",
        "LC08_L1TP_232083_20160702_20170323_01_T1 \tSat Jul 02 2016 \t67%\n",
        "LC08_L1TP_232083_20160616_20170324_01_T1 \tThu Jun 16 2016 \t4%\n",
        "LC08_L1TP_232083_20160531_20170324_01_T1 \tTue May 31 2016 \t28%\n",
        "LC08_L1TP_232083_20160515_20170324_01_T1 \tSun May 15 2016 \t42%\n",
        "LC08_L1TP_232083_20160429_20170326_01_T1 \tFri Apr 29 2016 \t70%\n",
        "LC08_L1TP_232083_20160413_20170326_01_T1 \tWed Apr 13 2016 \t56%\n",
        "LC08_L1TP_232083_20160328_20170327_01_T1 \tMon Mar 28 2016 \t8%\n",
        "LC08_L1TP_232083_20160312_20170328_01_T1 \tSat Mar 12 2016 \t31%\n",
        "LC08_L1TP_232083_20160225_20170329_01_T1 \tThu Feb 25 2016 \t14%\n",
        "LC08_L1TP_232083_20160209_20170330_01_T1 \tTue Feb 09 2016 \t8%\n",
        "LC08_L1TP_232083_20160124_20170405_01_T1 \tSun Jan 24 2016 \t48%\n",
        "LC08_L1TP_232083_20160108_20170405_01_T1 \tFri Jan 08 2016 \t53%\n",
        "LC08_L1TP_232083_20151223_20170331_01_T1 \tWed Dec 23 2015 \t12%\n",
        "LC08_L1TP_232083_20151207_20170401_01_T1 \tMon Dec 07 2015 \t20%\n",
        "LC08_L1TP_232083_20151121_20170401_01_T1 \tSat Nov 21 2015 \t18%\n",
        "LC08_L1TP_232083_20151105_20170402_01_T1 \tThu Nov 05 2015 \t44%\n",
        "LC08_L1TP_232083_20151020_20170403_01_T1 \tTue Oct 20 2015 \t28%\n",
        "LC08_L1TP_232083_20151004_20170403_01_T1 \tSun Oct 04 2015 \t100%\n",
        "LC08_L1TP_232083_20150918_20170404_01_T1 \tFri Sep 18 2015 \t8%\n",
        "LC08_L1TP_232083_20150902_20170404_01_T1 \tWed Sep 02 2015 \t3%\n",
        "LC08_L1TP_232083_20150817_20170406_01_T1 \tMon Aug 17 2015 \t1%\n",
        "LC08_L1TP_232083_20150801_20170406_01_T1 \tSat Aug 01 2015 \t35%\n",
        "LC08_L1TP_232083_20150716_20170407_01_T1 \tThu Jul 16 2015 \t21%\n",
        "LC08_L1TP_232083_20150630_20170407_01_T1 \tTue Jun 30 2015 \t33%\n",
        "LC08_L1TP_232083_20150614_20170408_01_T1 \tSun Jun 14 2015 \t10%\n",
        "LC08_L1TP_232083_20150529_20170408_01_T1 \tFri May 29 2015 \t20%\n",
        "LC08_L1TP_232083_20150513_20170409_01_T1 \tWed May 13 2015 \t6%\n",
        "LC08_L1TP_232083_20150427_20170409_01_T1 \tMon Apr 27 2015 \t26%\n",
        "LC08_L1TP_232083_20150411_20170410_01_T1 \tSat Apr 11 2015 \t12%\n",
        "LC08_L1TP_232083_20150326_20170411_01_T1 \tThu Mar 26 2015 \t87%\n",
        "LC08_L1TP_232083_20150310_20170412_01_T1 \tTue Mar 10 2015 \t10%\n",
        "LC08_L1TP_232083_20150222_20170412_01_T1 \tSun Feb 22 2015 \t4%\n",
        "LC08_L1TP_232083_20150206_20170413_01_T1 \tFri Feb 06 2015 \t32%\n",
        "LC08_L1TP_232083_20150121_20170413_01_T1 \tWed Jan 21 2015 \t13%\n",
        "LC08_L1TP_232083_20150105_20170415_01_T1 \tMon Jan 05 2015 \t1%\n",
        "LC08_L1TP_232083_20141220_20170416_01_T1 \tSat Dec 20 2014 \t31%\n",
        "LC08_L1TP_232083_20141204_20170416_01_T1 \tThu Dec 04 2014 \t1%\n",
        "LC08_L1TP_232083_20141118_20170417_01_T1 \tTue Nov 18 2014 \t30%\n",
        "LC08_L1TP_232083_20141102_20170418_01_T1 \tSun Nov 02 2014 \t83%\n",
        "LC08_L1TP_232083_20141017_20170418_01_T1 \tFri Oct 17 2014 \t29%\n",
        "LC08_L1TP_232083_20141001_20170418_01_T1 \tWed Oct 01 2014 \t41%\n",
        "LC08_L1TP_232083_20140915_20170419_01_T1 \tMon Sep 15 2014 \t6%\n",
        "LC08_L1TP_232083_20140830_20170420_01_T1 \tSat Aug 30 2014 \t38%\n",
        "LC08_L1TP_232083_20140814_20170420_01_T1 \tThu Aug 14 2014 \t44%\n",
        "LC08_L1TP_232083_20140729_20170420_01_T1 \tTue Jul 29 2014 \t32%\n",
        "LC08_L1TP_232083_20140713_20170421_01_T1 \tSun Jul 13 2014 \t9%\n",
        "LC08_L1TP_232083_20140627_20170421_01_T1 \tFri Jun 27 2014 \t5%\n",
        "LC08_L1TP_232083_20140611_20170422_01_T1 \tWed Jun 11 2014 \t52%\n",
        "LC08_L1TP_232083_20140526_20170422_01_T1 \tMon May 26 2014 \t5%\n",
        "LC08_L1TP_232083_20140510_20170422_01_T1 \tSat May 10 2014 \t64%\n",
        "LC08_L1TP_232083_20140424_20170423_01_T1 \tThu Apr 24 2014 \t33%\n",
        "LC08_L1TP_232083_20140408_20170424_01_T1 \tTue Apr 08 2014 \t2%\n",
        "LC08_L1TP_232083_20140323_20170424_01_T1 \tSun Mar 23 2014 \t1%\n",
        "LC08_L1TP_232083_20140307_20170425_01_T1 \tFri Mar 07 2014 \t3%\n",
        "LC08_L1TP_232083_20140219_20170425_01_T1 \tWed Feb 19 2014 \t7%\n",
        "LC08_L1TP_232083_20140203_20170426_01_T1 \tMon Feb 03 2014 \t36%\n",
        "LC08_L1TP_232083_20140118_20170426_01_T1 \tSat Jan 18 2014 \t94%\n",
        "LC08_L1TP_232083_20140102_20170427_01_T1 \tThu Jan 02 2014 \t14%\n",
        "LC08_L1TP_232083_20131217_20170427_01_T1 \tTue Dec 17 2013 \t8%\n",
        "LC08_L1TP_232083_20131201_20170428_01_T1 \tSun Dec 01 2013 \t3%\n",
        "LC08_L1TP_232083_20131115_20170428_01_T1 \tFri Nov 15 2013 \t3%\n",
        "LC08_L1TP_232083_20130928_20170502_01_T1 \tSat Sep 28 2013 \t55%\n",
        "LC08_L1TP_232083_20130912_20170502_01_T1 \tThu Sep 12 2013 \t61%\n",
        "LC08_L1TP_232083_20130827_20170502_01_T1 \tTue Aug 27 2013 \t4%\n",
        "LC08_L1TP_232083_20130811_20170503_01_T1 \tSun Aug 11 2013 \t54%\n",
        "LC08_L1TP_232083_20130726_20170503_01_T1 \tFri Jul 26 2013 \t45%\n",
        "LC08_L1TP_232083_20130710_20170504_01_T1 \tWed Jul 10 2013 \t78%\n",
        "LC08_L1TP_232083_20130624_20170504_01_T1 \tMon Jun 24 2013 \t5%\n",
        "LC08_L1TP_232083_20130608_20170504_01_T1 \tSat Jun 08 2013 \t4%\n",
        "LC08_L1TP_232083_20130523_20170504_01_T1 \tThu May 23 2013 \t5%\n",
        "LC08_L1TP_232083_20130421_20170505_01_T1 \tSun Apr 21 2013 \t1%\n",
        "LC08_L1TP_232083_20130407_20170505_01_T1 \tSun Apr 07 2013 \t4%\n",
        "LC08_L1TP_232083_20130402_20170505_01_T1 \tTue Apr 02 2013 \t16%"
      ]
    }
  ]
}